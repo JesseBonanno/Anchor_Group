{
 "cells": [
  {
   "cell_type": "code",
   "execution_count": null,
   "metadata": {},
   "outputs": [],
   "source": [
    "# INITIALIZATION\n",
    "!pip install shapely\n",
    "!pip install pythreejs\n",
    "\n",
    "from google.colab import output\n",
    "output.enable_custom_widget_manager()"
   ]
  },
  {
   "cell_type": "code",
   "execution_count": null,
   "metadata": {},
   "outputs": [],
   "source": [
    "# CHANGE THESE NUMBERS ONLY\n",
    "\n",
    "# anchors categorized as a regular grid,\n",
    "# could modify the code to use the same approach for a grid that isnt regular\n",
    "\n",
    "x_spacing = 2\n",
    "y_spacing = 3\n",
    "\n",
    "no_anchors_x = 4\n",
    "no_anchors_y = 5\n",
    "\n",
    "# height is the height of the cone, or the depth of the anchor.\n",
    "# Generally refering to the bonded length, since for a the unbonded length it may be more appropriate\n",
    "# to take the volume of a cylinder over the area of the cone being pulled out.\n",
    "\n",
    "height = 5"
   ]
  },
  {
   "cell_type": "code",
   "execution_count": null,
   "metadata": {},
   "outputs": [],
   "source": [
    "# CELL RETURNS THE VOLUME OF THE CONE GROUP\n",
    "\n",
    "# import shapely\n",
    "from shapely.geometry import Point\n",
    "from shapely.ops import unary_union\n",
    "\n",
    "# create a function that calculates the area of a group of joined circles\n",
    "def area_circle_group(x_spacing, y_spacing, no_anchors_x, no_anchors_y, diameter):\n",
    "    circles=[]\n",
    "    # loop through grid of x and y coordinates\n",
    "    for x in range(0,no_anchors_x):\n",
    "        for y in range(0, no_anchors_y):\n",
    "            # for each x and y coordinate add a circle\n",
    "            # note circle is actually represented as a 64 sided polygon\n",
    "            circles.append(Point(x*x_spacing, y*y_spacing).buffer(diameter))\n",
    "\n",
    "    return unary_union(circles).area\n",
    "\n",
    "# create a function that integrates by calculating the area of a slice through the group anchors\n",
    "def volume_group_anchors(x_spacing, y_spacing, no_anchors_x, no_anchors_y, height):\n",
    "    # iterations represents the number of slices through the cone volume\n",
    "    # a higher number will theoretically be more accurate for a higher computation speed\n",
    "    # the areas arent accurate already though because areas are calculated based on 64 sided polygons\n",
    "    # therefore 100% accuracy will never be guarenteed\n",
    "    ITERATIONS = 100\n",
    "\n",
    "    # list of areas, where area is a function of x, and x is a function of the iteration number.\n",
    "    areas = []\n",
    "\n",
    "    for n in range(0,ITERATIONS+1):\n",
    "        diameter = (n / ITERATIONS) * height\n",
    "        areas.append(area_circle_group(x_spacing, y_spacing, no_anchors_x, no_anchors_y, diameter))\n",
    "\n",
    "    # might need to add a weight of 0.5 for the start and ending point of the iteration,     \n",
    "    return sum(areas) / len(areas) * height\n",
    "\n",
    "volume_group_anchors(x_spacing, y_spacing, no_anchors_x, no_anchors_y, height)"
   ]
  },
  {
   "cell_type": "code",
   "execution_count": 1,
   "metadata": {},
   "outputs": [
    {
     "ename": "NameError",
     "evalue": "name 'no_anchors_x' is not defined",
     "output_type": "error",
     "traceback": [
      "\u001b[1;31m---------------------------------------------------------------------------\u001b[0m",
      "\u001b[1;31mNameError\u001b[0m                                 Traceback (most recent call last)",
      "\u001b[1;32m~\\AppData\\Local\\Temp/ipykernel_50920/3586859571.py\u001b[0m in \u001b[0;36m<module>\u001b[1;34m\u001b[0m\n\u001b[0;32m      6\u001b[0m \u001b[1;31m# create a list of cones that are to be added to the scene\u001b[0m\u001b[1;33m\u001b[0m\u001b[1;33m\u001b[0m\u001b[1;33m\u001b[0m\u001b[0m\n\u001b[0;32m      7\u001b[0m \u001b[0mcones\u001b[0m \u001b[1;33m=\u001b[0m \u001b[1;33m[\u001b[0m\u001b[1;33m]\u001b[0m\u001b[1;33m\u001b[0m\u001b[1;33m\u001b[0m\u001b[0m\n\u001b[1;32m----> 8\u001b[1;33m \u001b[1;32mfor\u001b[0m \u001b[0mx\u001b[0m \u001b[1;32min\u001b[0m \u001b[0mrange\u001b[0m\u001b[1;33m(\u001b[0m\u001b[1;36m0\u001b[0m\u001b[1;33m,\u001b[0m\u001b[0mno_anchors_x\u001b[0m\u001b[1;33m)\u001b[0m\u001b[1;33m:\u001b[0m\u001b[1;33m\u001b[0m\u001b[1;33m\u001b[0m\u001b[0m\n\u001b[0m\u001b[0;32m      9\u001b[0m         \u001b[1;32mfor\u001b[0m \u001b[0my\u001b[0m \u001b[1;32min\u001b[0m \u001b[0mrange\u001b[0m\u001b[1;33m(\u001b[0m\u001b[1;36m0\u001b[0m\u001b[1;33m,\u001b[0m \u001b[0mno_anchors_y\u001b[0m\u001b[1;33m)\u001b[0m\u001b[1;33m:\u001b[0m\u001b[1;33m\u001b[0m\u001b[1;33m\u001b[0m\u001b[0m\n\u001b[0;32m     10\u001b[0m             \u001b[1;31m# for each x and y coordinate add a cone.\u001b[0m\u001b[1;33m\u001b[0m\u001b[1;33m\u001b[0m\u001b[1;33m\u001b[0m\u001b[0m\n",
      "\u001b[1;31mNameError\u001b[0m: name 'no_anchors_x' is not defined"
     ]
    }
   ],
   "source": [
    "# THIS CELL CREATES A PLOT OF THE ARRANGEMENT\n",
    "\n",
    "# import pythreejs\n",
    "from pythreejs import *\n",
    "\n",
    "# create a list of cones that are to be added to the scene\n",
    "cones = []\n",
    "for x in range(0,no_anchors_x):\n",
    "        for y in range(0, no_anchors_y):\n",
    "            # for each x and y coordinate add a cone. \n",
    "            cones.append(\n",
    "                Mesh(geometry=ConeGeometry(radius=height/2, radialSegments=64, height=height), \n",
    "                        material=MeshLambertMaterial(color='blue',transparent=True, opacity=0.5, depthTest=False),\n",
    "                        position=[x*x_spacing, 0, y*y_spacing])\n",
    "            )\n",
    "\n",
    "c = PerspectiveCamera(position=[10, 15, 10], up=[0, 1, 0])\n",
    "                    #   children=[DirectionalLight(color='white', position=[3, 5, 1], intensity=0.5)])\n",
    "\n",
    "scene = Scene(children=cones+[c, AmbientLight(color='#777777')])\n",
    "\n",
    "renderer = Renderer(camera=c, \n",
    "                    scene=scene, \n",
    "                    controls=[OrbitControls(controlling=c)],\n",
    "                    width =800, height = 600)\n",
    "\n",
    "display(renderer)"
   ]
  }
 ],
 "metadata": {
  "interpreter": {
   "hash": "961eff7faf67ce79553a65a2487d2e108eb15b996265a912167c96f0537f9b25"
  },
  "kernelspec": {
   "display_name": "Python 3.7.3 64-bit",
   "language": "python",
   "name": "python3"
  },
  "language_info": {
   "codemirror_mode": {
    "name": "ipython",
    "version": 3
   },
   "file_extension": ".py",
   "mimetype": "text/x-python",
   "name": "python",
   "nbconvert_exporter": "python",
   "pygments_lexer": "ipython3",
   "version": "3.7.3"
  },
  "orig_nbformat": 4
 },
 "nbformat": 4,
 "nbformat_minor": 2
}
